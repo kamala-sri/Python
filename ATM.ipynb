{
  "nbformat": 4,
  "nbformat_minor": 0,
  "metadata": {
    "colab": {
      "provenance": []
    },
    "kernelspec": {
      "name": "python3",
      "display_name": "Python 3"
    },
    "language_info": {
      "name": "python"
    }
  },
  "cells": [
    {
      "cell_type": "code",
      "source": [
        "#Welcome Message\n",
        "print(\"Welcome to Northern Frock\")\n",
        "#setting available amount\n",
        "available_limit = 17000\n",
        "#setting password,user input and print menu\n",
        "password = int(input(\"Enter 4 digit pin number: \"))\n",
        "if password == 3012:\n",
        "    print(\"1-Display balance\")\n",
        "    print(\"2-Withdraw funds\")\n",
        "    print(\"3-Deposit funds \")\n",
        "    print(\"9-Return card \")\n",
        "    #setting user input for transaction type\n",
        "    trans_type = int(input(\"Choose Transaction Type: \"))\n",
        "    #transaction type: Available balance\n",
        "    if trans_type == 1:\n",
        "        print(\"Available balance: £\", available_limit)\n",
        "    #transaction type: withdraw funds\n",
        "    elif trans_type == 2:\n",
        "        withdraw = int(input(\"Withdraw funds: \"))\n",
        "        if withdraw <= available_limit and withdraw % 100 == 0:\n",
        "            available_limit -= withdraw\n",
        "            print(\"Please collect your amount: £\", withdraw)\n",
        "            print(\"Updated balance: £\", available_limit)\n",
        "        else:\n",
        "            print(\"Insufficient funds\")\n",
        "    #transaction type: Deposit amount\n",
        "    elif trans_type == 3:\n",
        "        deposit = float(input(\"Enter Deposit Amount: \"))\n",
        "        available_limit += deposit\n",
        "        print(\"Deposit funds: £\", deposit)\n",
        "        print(\"Updated balance: £\", available_limit)\n",
        "    #transaction type: return card\n",
        "    else:\n",
        "        print(\"Return card...\")\n",
        "        #Invalid PIN\n",
        "else:\n",
        "    print(\"Invalid PIN. Please try again.\")\n"
      ],
      "metadata": {
        "colab": {
          "base_uri": "https://localhost:8080/"
        },
        "id": "1FdmRbkpIXL8",
        "outputId": "f1a08593-9e08-401c-a4f2-c02671d9c2cb"
      },
      "execution_count": null,
      "outputs": [
        {
          "output_type": "stream",
          "name": "stdout",
          "text": [
            "Welcome to Northern Frock\n",
            "Enter 4 digit pin number: 3012\n",
            "1-Display balance\n",
            "2-Withdraw funds\n",
            "3-Deposit funds \n",
            "9-Return card \n",
            "Choose Transaction Type: 2\n",
            "Withdraw funds: 500\n",
            "Please collect your amount: £ 500\n",
            "Updated balance: £ 16500\n"
          ]
        }
      ]
    }
  ]
}